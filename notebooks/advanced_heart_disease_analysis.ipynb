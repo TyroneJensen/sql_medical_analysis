{
 "cells": [
  {
   "cell_type": "markdown",
   "metadata": {},
   "source": [
    "# Advanced Heart Disease Data Analysis\n",
    "\n",
    "This notebook demonstrates advanced SQL querying and data analysis using the UCI Heart Disease dataset."
   ]
  },
  {
   "cell_type": "code",
   "execution_count": null,
   "metadata": {},
   "outputs": [],
   "source": [
    "# Import necessary libraries\n",
    "import pandas as pd\n",
    "import matplotlib.pyplot as plt\n",
    "import sqlite3"
   ]
  },
  {
   "cell_type": "markdown",
   "metadata": {},
   "source": [
    "## Load the Data\n",
    "\n",
    "Load the dataset into a Pandas DataFrame and explore its structure."
   ]
  },
  {
   "cell_type": "code",
   "execution_count": null,
   "metadata": {},
   "outputs": [],
   "source": [
    "# Load the dataset\n",
    "df = pd.read_csv('../data/heart_disease.csv')\n",
    "df.head()"
   ]
  },
  {
   "cell_type": "markdown",
   "metadata": {},
   "source": [
    "## SQL Queries\n",
    "\n",
    "Use SQLite to perform advanced SQL queries on the dataset."
   ]
  },
  {
   "cell_type": "code",
   "execution_count": null,
   "metadata": {},
   "outputs": [],
   "source": [
    "# Create a SQLite connection\n",
    "conn = sqlite3.connect(':memory:')\n",
    "df.to_sql('heart_disease', conn, index=False, if_exists='replace')\n",
    "\n",
    "# SQL query to calculate average cholesterol by age group\n",
    "query_avg_chol = 'SELECT age, AVG(chol) as avg_cholesterol FROM heart_disease GROUP BY age'\n",
    "avg_chol_df = pd.read_sql_query(query_avg_chol, conn)\n",
    "avg_chol_df.head()"
   ]
  },
  {
   "cell_type": "code",
   "execution_count": null,
   "metadata": {},
   "outputs": [],
   "source": [
    "# Plot average cholesterol by age group\n",
    "plt.figure(figsize=(12, 6))\n",
    "plt.plot(avg_chol_df['age'], avg_chol_df['avg_cholesterol'], marker='o', linestyle='-')\n",
    "plt.title('Average Cholesterol by Age Group')\n",
    "plt.xlabel('Age')\n",
    "plt.ylabel('Average Cholesterol')\n",
    "plt.grid(True)\n",
    "plt.show()"
   ]
  },
  {
   "cell_type": "code",
   "execution_count": null,
   "metadata": {},
   "outputs": [],
   "source": [
    "# SQL query to find distribution of chest pain types\n",
    "query_cp_distribution = 'SELECT cp, COUNT(*) as count FROM heart_disease GROUP BY cp'\n",
    "cp_dist_df = pd.read_sql_query(query_cp_distribution, conn)\n",
    "cp_dist_df.head()"
   ]
  },
  {
   "cell_type": "code",
   "execution_count": null,
   "metadata": {},
   "outputs": [],
   "source": [
    "# Plot distribution of chest pain types\n",
    "plt.figure(figsize=(8, 5))\n",
    "plt.bar(cp_dist_df['cp'], cp_dist_df['count'], color='orange')\n",
    "plt.title('Distribution of Chest Pain Types')\n",
    "plt.xlabel('Chest Pain Type')\n",
    "plt.ylabel('Count')\n",
    "plt.xticks(cp_dist_df['cp'])\n",
    "plt.show()"
   ]
  },
  {
   "cell_type": "code",
   "execution_count": null,
   "metadata": {},
   "outputs": [],
   "source": [
    "# SQL query to calculate the correlation between age and cholesterol\n",
    "query_correlation = 'SELECT age, chol FROM heart_disease'\n",
    "correlation_df = pd.read_sql_query(query_correlation, conn)\n",
    "correlation = correlation_df.corr().loc['age', 'chol']\n",
    "print(f'Correlation between Age and Cholesterol: {correlation:.2f}')"
   ]
  }
 ],
 "metadata": {
  "kernelspec": {
   "display_name": "Python 3",
   "language": "python",
   "name": "python3"
  },
  "language_info": {
   "codemirror_mode": {
    "name": "ipython",
    "version": 3
   },
   "file_extension": ".py",
   "mimetype": "text/x-python",
   "name": "python",
   "nbconvert_exporter": "python",
   "pygments_lexer": "ipython3",
   "version": "3.8.5"
  }
 },
 "nbformat": 4,
 "nbformat_minor": 4
}
